{
 "cells": [
  {
   "cell_type": "code",
   "execution_count": 3,
   "id": "0c4bd645",
   "metadata": {},
   "outputs": [
    {
     "name": "stdout",
     "output_type": "stream",
     "text": [
      "Successfully processed 8 Jira issues.\r\n"
     ]
    }
   ],
   "source": [
    "%%python - AIM-1 AIM-2 AIM-3 AIM-6 AIM-7 AIM-8 AIM-9 AIM-10\n",
    "\n",
    "import argparse\n",
    "import os\n",
    "import json\n",
    "from jira import JIRA\n",
    "import openai\n",
    "\n",
    "def load_openai_api_key(file_path):\n",
    "    with open(file_path, 'r') as f:\n",
    "        data = json.load(f)\n",
    "        openai.api_key = data['openai']\n",
    "        \n",
    "\n",
    "def load_jira_api_key(file_path):\n",
    "    with open(file_path, 'r') as f:\n",
    "        data = json.load(f)\n",
    "        jira_key = data['jira']\n",
    "        return jira_key\n",
    "    \n",
    "def summarize_jira_issue(description):\n",
    "    prompt = f\"\"\"\n",
    "    You are writing knowledgebase article content for a customer of a system,\\\n",
    "    who needs a brief overview of the fixed problem, the provided solution; and if applicable, any action the customer must take.\\\n",
    "    Write knowledgebase article content based on the following Jira issue description,\\ \n",
    "    summarized in three bullet points, formatted as follows:\\\n",
    "    1) Problem:\\\n",
    "    2) Solution:\\\n",
    "    3) Required Customer Action:\\\n",
    "    If there is no coherent problem or solution information in the Jira issue description or the description is empty, then write 'No information available!'\\\n",
    "    If there is no solution mentioned in the Jira issue description, write 'No solution provided.' in the Solution bullet point.\\\n",
    "    If no explicit customer action mentioned in the Jira issue description, identify the customer action based on the solution or workarounds or actions mentioned in the Jira issue description.\\\n",
    "    For example, 'Restarting system is the only way for the update to take effect' indicates the required customer action of system restart.\\\n",
    "    For example, a solution like 'A new button was added to enable operators to manually perform the action' indicates the required customer action of informing customer's operators to click the button to manually perform the action.\\\n",
    "    The customer action should preferably be in unbiased and gender-neutral language. Only if absolutely required, use 'they', 'them' and 'their' pronouns for the customer.\\\n",
    "    If no customer action can be identified in the Jira issue description, write 'No customer action required.' in the Required Customer Action bullet point.\\\n",
    "    \\\\n\\\\nJira issue description: {description}\"\"\"\n",
    "    \n",
    "    messages = [{\"role\": \"user\", \"content\": prompt}]\n",
    "    response = openai.ChatCompletion.create(\n",
    "        model=\"gpt-3.5-turbo\",\n",
    "        messages=messages,\n",
    "        temperature=0.5,\n",
    "    )\n",
    "    \n",
    "    summary = response.choices[0].message[\"content\"]\n",
    "    return summary.strip()\n",
    "\n",
    "def main():\n",
    "    \n",
    "    load_openai_api_key('api_keys.json')\n",
    "    jira_key = load_jira_api_key('api_keys.json')\n",
    "    \n",
    "    parser = argparse.ArgumentParser(description=\"Summarize Jira issues.\")\n",
    "    parser.add_argument(\"issue_ids\", metavar=\"N\", type=str, nargs=\"+\", help=\"Jira issue IDs\")\n",
    "    args = parser.parse_args()\n",
    "\n",
    "    jira = JIRA(server=\"https://aimugdha.atlassian.net\", basic_auth=('vmugdha.ai@gmail.com', jira_key))\n",
    "    issue_ids = args.issue_ids\n",
    "\n",
    "    output_dir = \"KBA_Output\"\n",
    "    os.makedirs(output_dir, exist_ok=True)\n",
    "\n",
    "    for issue_id in issue_ids:\n",
    "        issue = jira.issue(issue_id)\n",
    "        summary = summarize_jira_issue(issue.fields.description)\n",
    "        with open(f\"{output_dir}/{issue_id}.txt\", \"w\") as f:\n",
    "            f.write(str(summary))\n",
    "\n",
    "    print(f\"Successfully processed {len(issue_ids)} Jira issues.\")\n",
    "\n",
    "if __name__ == \"__main__\":\n",
    "    main()"
   ]
  },
  {
   "cell_type": "code",
   "execution_count": null,
   "id": "fcdb0835",
   "metadata": {},
   "outputs": [],
   "source": []
  }
 ],
 "metadata": {
  "kernelspec": {
   "display_name": "Python 3 (ipykernel)",
   "language": "python",
   "name": "python3"
  },
  "language_info": {
   "codemirror_mode": {
    "name": "ipython",
    "version": 3
   },
   "file_extension": ".py",
   "mimetype": "text/x-python",
   "name": "python",
   "nbconvert_exporter": "python",
   "pygments_lexer": "ipython3",
   "version": "3.10.9"
  }
 },
 "nbformat": 4,
 "nbformat_minor": 5
}
